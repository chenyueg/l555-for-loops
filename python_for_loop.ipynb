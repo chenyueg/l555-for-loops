{
 "cells": [
  {
   "cell_type": "markdown",
   "metadata": {},
   "source": [
    "# Python - For Loops\n",
    "\n",
    "## Interation\n",
    "\n",
    "### For loops allow us to iterate over each element of a set or sequence\n",
    "\n",
    "#### Syntax:\n",
    "\n",
    "#### for var in set:\n",
    "         do ...\n",
    "         do ..."
   ]
  },
  {
   "cell_type": "code",
   "execution_count": null,
   "metadata": {},
   "outputs": [],
   "source": [
    "numbers = [1, 2, 3, 4, 5, 6, 7, 8, 9, 10]\n",
    "\n",
    "for eachNumber in numbers:\n",
    "    print(eachNumber)\n"
   ]
  },
  {
   "cell_type": "code",
   "execution_count": null,
   "metadata": {},
   "outputs": [],
   "source": [
    "words = ['a', 'rose', 'is', 'a', 'rose', 'is', 'a', 'rose']\n",
    "\n",
    "for w in words:\n",
    "    print(w)"
   ]
  },
  {
   "cell_type": "markdown",
   "metadata": {},
   "source": [
    "## The Function Range\n",
    "\n",
    "### Iteration\n",
    "\n",
    "#### Python has a built-in function, range, which allows us to generate a list containing the numbers specified in the range.\n",
    "\n",
    "#### range(1, 10)\n",
    "\n",
    "## Range in Loops"
   ]
  },
  {
   "cell_type": "code",
   "execution_count": null,
   "metadata": {},
   "outputs": [],
   "source": [
    "for number in range(0, 10):\n",
    "    print(number)"
   ]
  },
  {
   "cell_type": "markdown",
   "metadata": {},
   "source": [
    "## Range and Dictionaries"
   ]
  },
  {
   "cell_type": "code",
   "execution_count": null,
   "metadata": {},
   "outputs": [],
   "source": [
    "dict = {'NN': 5, 'PRP': 13, 'VBZ': 4}\n",
    "\n",
    "for key in dict:\n",
    "    print(key, 'occurred', dict[key], 'times.')"
   ]
  },
  {
   "cell_type": "code",
   "execution_count": null,
   "metadata": {
    "scrolled": true
   },
   "outputs": [],
   "source": [
    "dict = {'NN': 5, 'PRP': 13, 'VBZ': 4}\n",
    "\n",
    "for key, val in dict.items():\n",
    "    print(key,'occurred', val, 'times.')"
   ]
  },
  {
   "cell_type": "markdown",
   "metadata": {},
   "source": [
    "### Iteration\n",
    "\n",
    "#### Caution: The loop will make sure that you will look at every key, but not in which order."
   ]
  },
  {
   "cell_type": "markdown",
   "metadata": {},
   "source": [
    "## Breaking out of Loops\n",
    "\n",
    "### break: stops the execution of the loop, independent of the rest"
   ]
  },
  {
   "cell_type": "code",
   "execution_count": null,
   "metadata": {},
   "outputs": [],
   "source": [
    "for x in range(0, 100):\n",
    "    if (x % 7) == 0:\n",
    "        print('First number divisible by 7:', x)\n",
    "        break"
   ]
  },
  {
   "cell_type": "markdown",
   "metadata": {},
   "source": [
    "### continue: skip the rest of the loop body, but continue with the loop"
   ]
  },
  {
   "cell_type": "code",
   "execution_count": null,
   "metadata": {},
   "outputs": [],
   "source": [
    "for x in range(0, 100):\n",
    "    if (x % 7) != 0:\n",
    "        continue\n",
    "    print(x)"
   ]
  },
  {
   "cell_type": "markdown",
   "metadata": {},
   "source": [
    "## Loop Else\n",
    "\n",
    "### Iteration\n",
    "\n",
    "#### else can follow a loop, then it is executed in case the loop is not exited by break."
   ]
  },
  {
   "cell_type": "code",
   "execution_count": null,
   "metadata": {},
   "outputs": [],
   "source": [
    "for x in range(0, 100):\n",
    "    if (x % 7) == 0:\n",
    "        print(x)\n",
    "        break\n",
    "else:\n",
    "    print('Not found')"
   ]
  },
  {
   "cell_type": "code",
   "execution_count": null,
   "metadata": {},
   "outputs": [],
   "source": [
    "for x in range(1, 7):\n",
    "    if (x % 7) == 0:\n",
    "        print(x)\n",
    "        break\n",
    "else:\n",
    "    print('Not found')"
   ]
  },
  {
   "cell_type": "code",
   "execution_count": null,
   "metadata": {},
   "outputs": [],
   "source": []
  }
 ],
 "metadata": {
  "kernelspec": {
   "display_name": "Python 3",
   "language": "python",
   "name": "python3"
  },
  "language_info": {
   "codemirror_mode": {
    "name": "ipython",
    "version": 3
   },
   "file_extension": ".py",
   "mimetype": "text/x-python",
   "name": "python",
   "nbconvert_exporter": "python",
   "pygments_lexer": "ipython3",
   "version": "3.6.6"
  }
 },
 "nbformat": 4,
 "nbformat_minor": 2
}
